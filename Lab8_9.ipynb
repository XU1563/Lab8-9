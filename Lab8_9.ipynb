{
 "cells": [
  {
   "cell_type": "markdown",
   "metadata": {},
   "source": [
    "### Using the unknown bacterium DNA for SPAdes analysis \n",
    "1. locate the location of the files (- cd /data/lab8)  \n",
    "folder contains  \n",
    "1.illumina_reads_R1.fastq – first paired-end read  \n",
    "2.illumina_reads_R2.fastq – second paired-end read  \n",
    "3.pacbio_reads.fastq – long PacBio reads\n",
    "\n",
    "SPAdes is a hybrid genome assembler, meaning that it takes multiple sources of information as\n",
    "input and combines them to produce an optimal assembly.Assemblies using only short reads\n",
    "tend to be highly fragmented (i.e., many contigs). Assemblies using a high-quality short read set and a higher error rate long-read set (like PacBio) tend to be the best.\n",
    "\n",
    "2. using the SPAdes command line as shown below:  \n",
    "***spades -t 1 -1 /data/lab8/illumina_reads_R1.fastq -2 /data/lab8/illumina_reads_R2.fastq --pacbio /data/lab8/pacbio_reads.fastq  -o /home/be131-03/snow/lab8***\n",
    "\n",
    "annotation of the code above:\n",
    "specify the output directory with --o, the path to the first Illumina read with -1, the path to the second Illumina read with -2, and the path to your PacBio reads with --pacbio.\n",
    "\n",
    "3. using the command control+A+D, the screen will continue running even logged off\n",
    "\n",
    "##### Analysis:\n",
    "We expect short reads to produce a more fragmented assembly than long reads, since the the reads are small and arbitrary, on the opposite, the long reads are much more condensed and coherent less likely to be broken up assembly.\n",
    "\n",
    "A single-molecule sequencing like PacBio have a higher error rate than Illumina. Because PacBio read the long-read sets which may be less thorough with sequencing. Illumina reasd the smaller sequences and create multiply contiguous sequences.However, for creating scaffolds, having more coverage is preferable to higher accuracy.\n",
    "\n"
   ]
  },
  {
   "cell_type": "markdown",
   "metadata": {},
   "source": [
    "### Generate assembly statistics\n",
    "After the SPAdes runs, there are two files. \"Contigs.fasta\" are contiguous sequences that could be assembled from your reads. \"Scaffolds.fasta\" are sets of contigs that have been stitched together in order, and are generally longer than contigs.\n",
    "\n",
    "Using the assembly-stats program to calculate statistics on both your contigs and\n",
    "scaffolds file.\n",
    "##### Result:\n",
    "stats for contigs.fasta  \n",
    "sum = 6678635, n = 176, ave = 37946.79, largest = 414008  \n",
    "N50 = 234690, n = 11  \n",
    "N60 = 202142, n = 14  \n",
    "N70 = 154232, n = 18  \n",
    "N80 = 103367, n = 23  \n",
    "N90 = 81286, n = 30  \n",
    "N100 = 128, n = 176  \n",
    "N_count = 0  \n",
    "Gaps = 0\n",
    "\n",
    "***total length of all contigs is 6678635 bp, the number of contigs (or scaffolds) is 176, and the N50 is 234690, n=11.***\n",
    "\n",
    "stats for scaffolds.fasta  \n",
    "sum = 6678655, n = 174, ave = 38383.07, largest = 414008  \n",
    "N50 = 234690, n = 11  \n",
    "N60 = 202142, n = 14  \n",
    "N70 = 154232, n = 18  \n",
    "N80 = 103367, n = 23  \n",
    "N90 = 81821, n = 30  \n",
    "N100 = 128, n = 174  \n",
    "N_count = 20  \n",
    "Gaps = 2  \n",
    "***the total length of all scaffolds is 6678655 bp, the number of scaffolds is 174, and the N50 is 234690, n=11.***\n",
    "\n",
    "#### Analysis:\n",
    "\n",
    "the N50 is defined as the sequence length of the shortest contig at 50% of the total genome length.It gives more possible combinations in the total genome pool of contigs. It also gives higer weights to the longer contig but at the same time not ignore the shorter chains \n",
    "\n",
    "\n",
    "The scaffolds approximately equals to the contigs. the value is making sense since there are only two gaps in the scaffolds \n"
   ]
  },
  {
   "cell_type": "markdown",
   "metadata": {},
   "source": [
    "#### Extra Credit: \n",
    "The number of times a contig in your assembly was covered by the reads used to\n",
    "assemble it (“coverage”) is listed at the end of the contig name in contigs.fasta. Extract the\n",
    "coverage from each FASTA header and plot a histogram of coverage for all contigs in your\n",
    "assembly."
   ]
  },
  {
   "cell_type": "code",
   "execution_count": 37,
   "metadata": {},
   "outputs": [],
   "source": [
    "from Bio import SeqIO\n",
    "import matplotlib.pyplot as plt\n",
    "coverages=[]\n",
    "for record in SeqIO.parse(\"contigs.fasta\", \"fasta\"):\n",
    "    coverages.append(float(record.id.split('_')[5]))\n",
    "#print(coverages)\n"
   ]
  },
  {
   "cell_type": "code",
   "execution_count": 38,
   "metadata": {},
   "outputs": [
    {
     "data": {
      "image/png": "[encoded data removed]",
      "text/plain": [
       "<Figure size 432x288 with 1 Axes>"
      ]
     },
     "metadata": {
      "needs_background": "light"
     },
     "output_type": "display_data"
    }
   ],
   "source": [
    "plt.hist(coverages[0:len(coverages)-2],50)\n",
    "plt.ylabel('counts')\n",
    "plt.xlabel('coverage')\n",
    "plt.show()"
   ]
  },
  {
   "cell_type": "markdown",
   "metadata": {},
   "source": [
    "Analysis:\n",
    "    The result is bimodal distribution ( extreme value distribution). Most coverages occure within 10. The mean coverage is about 1.5. But there are few exceptional points exist at 25 and 32. \n",
    "    "
   ]
  },
  {
   "cell_type": "markdown",
   "metadata": {},
   "source": [
    "### Identify the taxon from which your genome originated\n",
    "Much of the gene is highly conserved, as function ribosomes are required for protein synthesis, but some regions differ greater between bacterial taxa. These “hypervariable regions” can be used to determine the taxon from which a 16S rRNA gene originated.\n",
    "\n",
    "To identify your genome, you must   \n",
    "##### 1) scan over the entire genome to locate copies of the 16S ribosomal RNA gene\n",
    "\n",
    "run the rna_hmm3.py program on your assembled contigs to locate rRNA genes. Must\n",
    "specify a path to the input assembly with -i and a path to the output General Feature Format\n",
    "(GFF) annotation file with -o.\n",
    "After this program completes, manually delete all lines within other than those containing 16S_rRNA genes.\n",
    "\n",
    "The code used in the terminal is     \n",
    "\n",
    "*rna_hmm3.py -i contigs.fasta -o contigs.gff*\n",
    "\n",
    "##### 2) extract the 16S rRNA genes from your assembly  \n",
    "use bedtools getfasta to extract nucleic acid sequences of the 16S rRNA gene.Specify the path to contigs.fasta with -fi and the path to the GFF file you obtained above, with -bed.\n",
    "\n",
    "The code used in the terminal is    \n",
    "\n",
    "*getfasta -fi contigs.fasta -bed output_16S_rRNA.gff -fo rRNAgene.fasta*\n",
    "\n",
    "##### 3) compare these genes to a database of known 16S rRNA genes.  \n",
    "the resulting FASTA file from the previous step uploads into the Ribosomal Database Project’s SeqMatch tool to identify the 16S sequences as precisely as possible by comparing them to a database from known bacteria."
   ]
  },
  {
   "cell_type": "markdown",
   "metadata": {},
   "source": [
    "#### Result:\n",
    "NODE_23_length_103367_cov_10.081286:35530-37075\n",
    "rootrank Root (1) (query sequences)\n",
    "\n",
    "    domain Bacteria  (1)   \n",
    "\n",
    "        phylum \"Proteobacteria\"  (1)  \n",
    "\n",
    "           class Gammaproteobacteria  (1)      \n",
    "\n",
    "             order Pseudomonadales  (1)     \n",
    "\n",
    "                family Pseudomonadaceae  (1)      \n",
    "\n",
    "                   genus Pseudomonas  (1)      \n",
    "NODE_18_length_154232_cov_9.584186:124541-126086\n",
    "rootrank Root (1) (query sequences)\n",
    "\n",
    "    domain Bacteria  (1)      \n",
    "\n",
    "        phylum \"Proteobacteria\"  (1)     \n",
    "\n",
    "          class Gammaproteobacteria  (1)       \n",
    "\n",
    "             order Pseudomonadales  (1)       \n",
    "\n",
    "                family Pseudomonadaceae  (1)       \n",
    "\n",
    "                 genus Pseudomonas  (1)      \n",
    "NODE_5_length_327223_cov_9.241629:46285-47830\n",
    "rootrank Root (1) (query sequences)\n",
    "\n",
    "    domain Bacteria  (1)      \n",
    "\n",
    "        phylum \"Proteobacteria\"  (1)      \n",
    "\n",
    "           class Gammaproteobacteria  (1)     \n",
    "\n",
    "             order Pseudomonadales  (1)      \n",
    "\n",
    "                 family Pseudomonadaceae  (1)      \n",
    "\n",
    "                     genus Pseudomonas  (1)       \n",
    "NODE_6_length_298784_cov_8.918606:13925-15470\n",
    "rootrank Root (1) (query sequences)\n",
    "\n",
    "    domain Bacteria  (1)      \n",
    "\n",
    "        phylum \"Proteobacteria\"  (1)      \n",
    "\n",
    "          class Gammaproteobacteria  (1)      \n",
    "\n",
    "             order Pseudomonadales  (1)      \n",
    "\n",
    "                family Pseudomonadaceae  (1)      \n",
    "\n",
    "                   genus Pseudomonas  (1)        \n",
    "NODE_4_length_332509_cov_9.114046:137011-138556\n",
    "rootrank Root (1) (query sequences)\n",
    "\n",
    "    domain Bacteria  (1)       \n",
    "\n",
    "       phylum \"Proteobacteria\"  (1)      \n",
    "\n",
    "          class Gammaproteobacteria  (1)       \n",
    "\n",
    "             order Pseudomonadales  (1)       \n",
    "\n",
    "                family Pseudomonadaceae  (1)      \n",
    "\n",
    "                   genus Pseudomonas  (1)        \n",
    "NODE_2_length_378948_cov_10.006665:348499-350044\n",
    "rootrank Root (1) (query sequences)\n",
    "\n",
    "    domain Bacteria  (1)      \n",
    "   \n",
    "        phylum \"Proteobacteria\"  (1)      \n",
    "\n",
    "          class Gammaproteobacteria  (1)      \n",
    "\n",
    "             order Pseudomonadales  (1)       \n",
    "\n",
    "                family Pseudomonadaceae  (1)      \n",
    "\n",
    "                   genus Pseudomonas  (1) \n",
    "\n",
    "#### Analysis: \n",
    "According to the results above, we used 6 16S rRNA to test. All of them are coming from the  Pseudomonas genus level. For the species level,it is hard to determine which exact species it comes from based on the just one rRNA sequence. The result listed 20 possible species. "
   ]
  },
  {
   "cell_type": "markdown",
   "metadata": {},
   "source": [
    "### Genome annotation\n",
    "look inside the genome and determine with high confidence whether it contains genes necessary to produce a cell wall, or virulence factors enabling the infection of an animal host. \n",
    "\n",
    "1. Using Genome annotation,it breaks the long genome sequence into genes, then identify their function by identifying orthologs with known function in other, more well-studied genomes\n",
    "\n",
    "- two remote annotation services that will perform the annotation automatically: RAST and BASys.\n",
    "\n",
    "#### Result:\n",
    "![Rast result](Rast.png)\n",
    "![BASys result](BASys.png)"
   ]
  },
  {
   "cell_type": "markdown",
   "metadata": {},
   "source": [
    "#### Research and write-up\n",
    "\n",
    "Using the Ribosomal Database Project’s SeqMatch tool, we had identified that the unknown bacteria potentially comes from the genus level of Pseudomonas. Pseudomonas is a gram-negative stained bacteria. From the RAST result, the unknown bacteria shows that it has the total length of 6,678,635 bp, a GC content of 58.7%, and N50 of 234690 and L50 of 11. The total number of the contigs with PEGs is 176. There are 393 subsystems, 6352 coding sequences and 85 RNAs.\n",
    "\n",
    "The subsystem coverage in overall is 29%. Saying the feature that are encoded by the genome, the largest percentage is the amino acid and its derivatives, containing the polyamines metabolism, urea cycle and arginine biosynthesis extended. The second largest group is the carbohydrates, including multiple carbohydrate metabolism pathways, fermentation and one-carbon metabolism. and the third largest is the cofactors, vitamins, prosthetic groups, and pigments, including biotin and thiamin biosynthesis, lipoic acid metabolism and so on. The tested bacteria has no pathways encoded for the photosynthesis. \n",
    "\n",
    "Members of the genus Pseudomonas inhabit a wide variety of environments, which is reflected in their versatile metabolic capacity and broad potential for adaptation to fluctuating environmental conditions[1]. Horizontal gene transfer has impacted the capability of pathogenic Pseudomonas spp. in terms of disease severity and specificity. For example, Genes most likely to be required for nitrogen fixation and rhizosphere competence were identified in a 49-kb region containing 59 genes in Psedomonas. stutzeri A1501, which, based on the G-C content, was postulated to be a GI acquired through horizontal transfer, and inserted between cobS (PST_1301) and PST_1360. \n",
    "\n",
    "The pseudomonas genome has high probability of encoding antibiotics resistance genes that inhibit the antibiotics activation. One study has determined that Pseudomonas aeruginosa can live in a biofilm mode within hypoxic mucus in the airways of patients with cystic fibrosis (CF) [2]. The biofilm leads to the result of multi- antibiotic resistance.  The mechanism behind this event is that the coded protein enzyme β-lactamase or penicillinase can hydrolyze the β-lactam ring of the antibiotics and penicillin, as the result, the antibiotics and penicillin become inactivation. In the paper, the research introduces the idea of using a metallo-complex, desferrioxamine-gallium (DFO-Ga) that targets P. aeruginosa iron metabolism. The use of DFO-Ga as a horse delivery system that interferes with iron metabolism shows promise as a treatment for P. aeruginosa infections.\n",
    "\n",
    "\n",
    "Reference:  \n",
    "[1] Silby, Mark W., et al. \"Pseudomonas genomes: diverse and adaptable.\" FEMS microbiology reviews 35.4 (2011): 652-680.  \n",
    "\n",
    "[2] Banin, Ehud, et al. \"The potential of desferrioxamine-gallium as an anti-Pseudomonas therapeutic agent.\" Proceedings of the National Academy of Sciences 105.43 (2008): 16761-16766.\n"
   ]
  },
  {
   "cell_type": "code",
   "execution_count": null,
   "metadata": {},
   "outputs": [],
   "source": []
  }
 ],
 "metadata": {
  "kernelspec": {
   "display_name": "Python 3",
   "language": "python",
   "name": "python3"
  },
  "language_info": {
   "codemirror_mode": {
    "name": "ipython",
    "version": 3
   },
   "file_extension": ".py",
   "mimetype": "text/x-python",
   "name": "python",
   "nbconvert_exporter": "python",
   "pygments_lexer": "ipython3",
   "version": "3.6.6"
  }
 },
 "nbformat": 4,
 "nbformat_minor": 2
}
